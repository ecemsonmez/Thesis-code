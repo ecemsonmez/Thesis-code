{
 "cells": [
  {
   "cell_type": "code",
   "execution_count": 2,
   "metadata": {},
   "outputs": [],
   "source": [
    "import eikon as ek\n",
    "ek.set_app_key('9a430e13c8a944e9894743c7bd608b7e41a432be')"
   ]
  },
  {
   "cell_type": "code",
   "execution_count": 22,
   "metadata": {},
   "outputs": [],
   "source": [
    "import eikon as ek  # the Eikon Python wrapper package\n",
    "import numpy as np  # NumPy\n",
    "import pandas as pd  # pandas\n",
    "import cufflinks as cf  # Cufflinks\n",
    "from sklearn.svm import SVC  # sckikit-learn\n",
    "from sklearn.model_selection import train_test_split\n",
    "import configparser as cp\n",
    "from collections import Counter\n",
    "from datetime import datetime\n",
    "import statistics\n",
    "import datetime as dt"
   ]
  },
  {
   "cell_type": "markdown",
   "metadata": {},
   "source": [
    "# S&P1500 Firms"
   ]
  },
  {
   "cell_type": "code",
   "execution_count": 4,
   "metadata": {
    "scrolled": true
   },
   "outputs": [
    {
     "data": {
      "text/html": [
       "<div>\n",
       "<style scoped>\n",
       "    .dataframe tbody tr th:only-of-type {\n",
       "        vertical-align: middle;\n",
       "    }\n",
       "\n",
       "    .dataframe tbody tr th {\n",
       "        vertical-align: top;\n",
       "    }\n",
       "\n",
       "    .dataframe thead th {\n",
       "        text-align: right;\n",
       "    }\n",
       "</style>\n",
       "<table border=\"1\" class=\"dataframe\">\n",
       "  <thead>\n",
       "    <tr style=\"text-align: right;\">\n",
       "      <th></th>\n",
       "      <th>Instrument</th>\n",
       "      <th>Number of Analysts</th>\n",
       "      <th>Recommendation - Mean (1-5)</th>\n",
       "      <th>Company Market Cap</th>\n",
       "    </tr>\n",
       "  </thead>\n",
       "  <tbody>\n",
       "    <tr>\n",
       "      <th>0</th>\n",
       "      <td>POOL.OQ</td>\n",
       "      <td>9</td>\n",
       "      <td>2.55556</td>\n",
       "      <td>1.495907e+10</td>\n",
       "    </tr>\n",
       "    <tr>\n",
       "      <th>1</th>\n",
       "      <td>CHRW.OQ</td>\n",
       "      <td>23</td>\n",
       "      <td>2.81818</td>\n",
       "      <td>1.276126e+10</td>\n",
       "    </tr>\n",
       "    <tr>\n",
       "      <th>2</th>\n",
       "      <td>AJG.N</td>\n",
       "      <td>13</td>\n",
       "      <td>2.23077</td>\n",
       "      <td>2.379215e+10</td>\n",
       "    </tr>\n",
       "    <tr>\n",
       "      <th>3</th>\n",
       "      <td>CNP.N</td>\n",
       "      <td>18</td>\n",
       "      <td>2.37500</td>\n",
       "      <td>1.178993e+10</td>\n",
       "    </tr>\n",
       "    <tr>\n",
       "      <th>4</th>\n",
       "      <td>AMCR.N</td>\n",
       "      <td>8</td>\n",
       "      <td>2.62500</td>\n",
       "      <td>1.846103e+10</td>\n",
       "    </tr>\n",
       "    <tr>\n",
       "      <th>5</th>\n",
       "      <td>WM.N</td>\n",
       "      <td>16</td>\n",
       "      <td>2.33333</td>\n",
       "      <td>4.983795e+10</td>\n",
       "    </tr>\n",
       "    <tr>\n",
       "      <th>6</th>\n",
       "      <td>PRGO.N</td>\n",
       "      <td>12</td>\n",
       "      <td>2.72727</td>\n",
       "      <td>6.103891e+09</td>\n",
       "    </tr>\n",
       "    <tr>\n",
       "      <th>7</th>\n",
       "      <td>BA.N</td>\n",
       "      <td>24</td>\n",
       "      <td>2.82609</td>\n",
       "      <td>1.246514e+11</td>\n",
       "    </tr>\n",
       "    <tr>\n",
       "      <th>8</th>\n",
       "      <td>FOX.OQ</td>\n",
       "      <td>27</td>\n",
       "      <td>2.53846</td>\n",
       "      <td>1.736921e+10</td>\n",
       "    </tr>\n",
       "    <tr>\n",
       "      <th>9</th>\n",
       "      <td>LIN.N</td>\n",
       "      <td>23</td>\n",
       "      <td>2.38095</td>\n",
       "      <td>1.379054e+11</td>\n",
       "    </tr>\n",
       "  </tbody>\n",
       "</table>\n",
       "</div>"
      ],
      "text/plain": [
       "  Instrument  Number of Analysts  Recommendation - Mean (1-5)  \\\n",
       "0    POOL.OQ                   9                      2.55556   \n",
       "1    CHRW.OQ                  23                      2.81818   \n",
       "2      AJG.N                  13                      2.23077   \n",
       "3      CNP.N                  18                      2.37500   \n",
       "4     AMCR.N                   8                      2.62500   \n",
       "5       WM.N                  16                      2.33333   \n",
       "6     PRGO.N                  12                      2.72727   \n",
       "7       BA.N                  24                      2.82609   \n",
       "8     FOX.OQ                  27                      2.53846   \n",
       "9      LIN.N                  23                      2.38095   \n",
       "\n",
       "   Company Market Cap  \n",
       "0        1.495907e+10  \n",
       "1        1.276126e+10  \n",
       "2        2.379215e+10  \n",
       "3        1.178993e+10  \n",
       "4        1.846103e+10  \n",
       "5        4.983795e+10  \n",
       "6        6.103891e+09  \n",
       "7        1.246514e+11  \n",
       "8        1.736921e+10  \n",
       "9        1.379054e+11  "
      ]
     },
     "execution_count": 4,
     "metadata": {},
     "output_type": "execute_result"
    }
   ],
   "source": [
    "df,er = ek.get_data(['0#.SPX','0#.SPMIDSM'],['TR.NumberOfAnalysts','TR.RecMean','TR.CompanyMarketCap'],\n",
    "                    {'frq': 'FY', 'SDate':'2020-01-01', 'EDate':'2020-12-31'})\n",
    "df.head(10)\n"
   ]
  },
  {
   "cell_type": "markdown",
   "metadata": {},
   "source": [
    "# Identifying the number of listed firms"
   ]
  },
  {
   "cell_type": "code",
   "execution_count": 5,
   "metadata": {},
   "outputs": [
    {
     "name": "stdout",
     "output_type": "stream",
     "text": [
      "1509\n"
     ]
    }
   ],
   "source": [
    "index=df.index\n",
    "no_of_listed_firms=len(index)\n",
    "print(no_of_listed_firms)"
   ]
  },
  {
   "cell_type": "markdown",
   "metadata": {},
   "source": [
    "# Identifying the number of covered firms"
   ]
  },
  {
   "cell_type": "code",
   "execution_count": 6,
   "metadata": {
    "scrolled": true
   },
   "outputs": [
    {
     "data": {
      "text/plain": [
       "Instrument                      0\n",
       "Number of Analysts              1\n",
       "Recommendation - Mean (1-5)    32\n",
       "Company Market Cap              4\n",
       "dtype: int64"
      ]
     },
     "execution_count": 6,
     "metadata": {},
     "output_type": "execute_result"
    }
   ],
   "source": [
    "df.isnull().sum()      #to check for any na values"
   ]
  },
  {
   "cell_type": "code",
   "execution_count": 7,
   "metadata": {},
   "outputs": [
    {
     "data": {
      "text/plain": [
       "1474"
      ]
     },
     "execution_count": 7,
     "metadata": {},
     "output_type": "execute_result"
    }
   ],
   "source": [
    "df['Number of Analysts'] = df['Number of Analysts'].fillna(0) #to replace na values with 0\n",
    "no_of_covered_firms = 0 \n",
    "for i in range(len(df)):\n",
    "    if df['Number of Analysts'][i] != 0:\n",
    "        no_of_covered_firms += 1\n",
    "\n",
    "no_of_covered_firms"
   ]
  },
  {
   "cell_type": "markdown",
   "metadata": {},
   "source": [
    "# Identifying covered firms as a % of listed firms"
   ]
  },
  {
   "cell_type": "code",
   "execution_count": 8,
   "metadata": {},
   "outputs": [
    {
     "data": {
      "text/plain": [
       "97.6805831676607"
      ]
     },
     "execution_count": 8,
     "metadata": {},
     "output_type": "execute_result"
    }
   ],
   "source": [
    "col4 = no_of_covered_firms/no_of_listed_firms*100\n",
    "col4"
   ]
  },
  {
   "cell_type": "markdown",
   "metadata": {},
   "source": [
    "# Identifying covered firms' market cap as a % of total listed firms' market cap"
   ]
  },
  {
   "cell_type": "code",
   "execution_count": 9,
   "metadata": {},
   "outputs": [
    {
     "data": {
      "text/plain": [
       "99.61393528180999"
      ]
     },
     "execution_count": 9,
     "metadata": {},
     "output_type": "execute_result"
    }
   ],
   "source": [
    "sumoflisted =df['Company Market Cap'].sum(skipna=bool)\n",
    "sumofcovered =df.loc[df['Number of Analysts'] != 0,'Company Market Cap'].sum(skipna=bool)\n",
    "col5=sumofcovered/sumoflisted*100\n",
    "col5"
   ]
  },
  {
   "cell_type": "markdown",
   "metadata": {},
   "source": [
    "# Identifying Analysts Per Covered firm Mean and Median"
   ]
  },
  {
   "cell_type": "code",
   "execution_count": 10,
   "metadata": {},
   "outputs": [
    {
     "name": "stdout",
     "output_type": "stream",
     "text": [
      "11.905235255135851\n",
      "10.0\n"
     ]
    }
   ],
   "source": [
    "df['Number of Analysts'] = df['Number of Analysts'].fillna(0) #to replace na values with 0\n",
    "\n",
    "for i in range(len(df)):\n",
    "    if df['Number of Analysts'][i] != 0:\n",
    "        mean6=df['Number of Analysts'].mean()\n",
    "        median7=df['Number of Analysts'].median()\n",
    "    \n",
    "print(mean6)\n",
    "print(median7)"
   ]
  },
  {
   "cell_type": "markdown",
   "metadata": {},
   "source": [
    "# Identifying Covered Firms per Analyst Mean and Median"
   ]
  },
  {
   "cell_type": "code",
   "execution_count": 11,
   "metadata": {},
   "outputs": [
    {
     "data": {
      "text/html": [
       "<div>\n",
       "<style scoped>\n",
       "    .dataframe tbody tr th:only-of-type {\n",
       "        vertical-align: middle;\n",
       "    }\n",
       "\n",
       "    .dataframe tbody tr th {\n",
       "        vertical-align: top;\n",
       "    }\n",
       "\n",
       "    .dataframe thead th {\n",
       "        text-align: right;\n",
       "    }\n",
       "</style>\n",
       "<table border=\"1\" class=\"dataframe\">\n",
       "  <thead>\n",
       "    <tr style=\"text-align: right;\">\n",
       "      <th></th>\n",
       "      <th>Instrument</th>\n",
       "      <th>Analyst - Analyst Code</th>\n",
       "    </tr>\n",
       "  </thead>\n",
       "  <tbody>\n",
       "    <tr>\n",
       "      <th>0</th>\n",
       "      <td>POOL.OQ</td>\n",
       "      <td>1RER</td>\n",
       "    </tr>\n",
       "    <tr>\n",
       "      <th>1</th>\n",
       "      <td>POOL.OQ</td>\n",
       "      <td>7W0X</td>\n",
       "    </tr>\n",
       "    <tr>\n",
       "      <th>2</th>\n",
       "      <td>POOL.OQ</td>\n",
       "      <td>5Y1B</td>\n",
       "    </tr>\n",
       "    <tr>\n",
       "      <th>3</th>\n",
       "      <td>POOL.OQ</td>\n",
       "      <td>35VW</td>\n",
       "    </tr>\n",
       "    <tr>\n",
       "      <th>4</th>\n",
       "      <td>POOL.OQ</td>\n",
       "      <td>2SOA</td>\n",
       "    </tr>\n",
       "    <tr>\n",
       "      <th>5</th>\n",
       "      <td>POOL.OQ</td>\n",
       "      <td>7NMO</td>\n",
       "    </tr>\n",
       "    <tr>\n",
       "      <th>6</th>\n",
       "      <td>POOL.OQ</td>\n",
       "      <td>3UE1</td>\n",
       "    </tr>\n",
       "    <tr>\n",
       "      <th>7</th>\n",
       "      <td>POOL.OQ</td>\n",
       "      <td>4EH7</td>\n",
       "    </tr>\n",
       "    <tr>\n",
       "      <th>8</th>\n",
       "      <td>POOL.OQ</td>\n",
       "      <td>4WV2</td>\n",
       "    </tr>\n",
       "    <tr>\n",
       "      <th>9</th>\n",
       "      <td>CHRW.OQ</td>\n",
       "      <td>6BCW</td>\n",
       "    </tr>\n",
       "    <tr>\n",
       "      <th>10</th>\n",
       "      <td>CHRW.OQ</td>\n",
       "      <td>6QKI</td>\n",
       "    </tr>\n",
       "    <tr>\n",
       "      <th>11</th>\n",
       "      <td>CHRW.OQ</td>\n",
       "      <td>5TKM</td>\n",
       "    </tr>\n",
       "    <tr>\n",
       "      <th>12</th>\n",
       "      <td>CHRW.OQ</td>\n",
       "      <td>4PNS</td>\n",
       "    </tr>\n",
       "    <tr>\n",
       "      <th>13</th>\n",
       "      <td>CHRW.OQ</td>\n",
       "      <td>4UH2</td>\n",
       "    </tr>\n",
       "    <tr>\n",
       "      <th>14</th>\n",
       "      <td>CHRW.OQ</td>\n",
       "      <td>3YPE</td>\n",
       "    </tr>\n",
       "    <tr>\n",
       "      <th>15</th>\n",
       "      <td>CHRW.OQ</td>\n",
       "      <td>64MH</td>\n",
       "    </tr>\n",
       "    <tr>\n",
       "      <th>16</th>\n",
       "      <td>CHRW.OQ</td>\n",
       "      <td>7B74</td>\n",
       "    </tr>\n",
       "    <tr>\n",
       "      <th>17</th>\n",
       "      <td>CHRW.OQ</td>\n",
       "      <td>424Y</td>\n",
       "    </tr>\n",
       "    <tr>\n",
       "      <th>18</th>\n",
       "      <td>CHRW.OQ</td>\n",
       "      <td>69UD</td>\n",
       "    </tr>\n",
       "    <tr>\n",
       "      <th>19</th>\n",
       "      <td>CHRW.OQ</td>\n",
       "      <td>7JM0</td>\n",
       "    </tr>\n",
       "  </tbody>\n",
       "</table>\n",
       "</div>"
      ],
      "text/plain": [
       "   Instrument Analyst - Analyst Code\n",
       "0     POOL.OQ                   1RER\n",
       "1     POOL.OQ                   7W0X\n",
       "2     POOL.OQ                   5Y1B\n",
       "3     POOL.OQ                   35VW\n",
       "4     POOL.OQ                   2SOA\n",
       "5     POOL.OQ                   7NMO\n",
       "6     POOL.OQ                   3UE1\n",
       "7     POOL.OQ                   4EH7\n",
       "8     POOL.OQ                   4WV2\n",
       "9     CHRW.OQ                   6BCW\n",
       "10    CHRW.OQ                   6QKI\n",
       "11    CHRW.OQ                   5TKM\n",
       "12    CHRW.OQ                   4PNS\n",
       "13    CHRW.OQ                   4UH2\n",
       "14    CHRW.OQ                   3YPE\n",
       "15    CHRW.OQ                   64MH\n",
       "16    CHRW.OQ                   7B74\n",
       "17    CHRW.OQ                   424Y\n",
       "18    CHRW.OQ                   69UD\n",
       "19    CHRW.OQ                   7JM0"
      ]
     },
     "execution_count": 11,
     "metadata": {},
     "output_type": "execute_result"
    }
   ],
   "source": [
    "df1,er1 = ek.get_data(['0#.SPX','0#.SPMIDSM'],['TR.AnalystCode'],\n",
    "                    {'frq': 'FY', 'SDate':'2020-01-01', 'EDate':'2020-12-31'})    \n",
    "df1.head(20)                           #Unique analyst ID to check how many firms does each analyst cover for"
   ]
  },
  {
   "cell_type": "code",
   "execution_count": 12,
   "metadata": {},
   "outputs": [
    {
     "data": {
      "text/plain": [
       "Analyst - Analyst Code\n",
       "        21\n",
       "166M     2\n",
       "17R0    12\n",
       "19WU    17\n",
       "1BEM     9\n",
       "Name: Instrument, dtype: int64"
      ]
     },
     "execution_count": 12,
     "metadata": {},
     "output_type": "execute_result"
    }
   ],
   "source": [
    "analysts=df1['Instrument'].groupby(df1['Analyst - Analyst Code']).count()\n",
    "\n",
    "analysts.head()          #firms are grouped by analyst code: how many firms does one code cover?"
   ]
  },
  {
   "cell_type": "code",
   "execution_count": 13,
   "metadata": {},
   "outputs": [],
   "source": [
    "#What does 3 signify? Is that for unknown analyst codes?"
   ]
  },
  {
   "cell_type": "code",
   "execution_count": 14,
   "metadata": {},
   "outputs": [
    {
     "name": "stdout",
     "output_type": "stream",
     "text": [
      "8.661372950819672\n",
      "7.0\n"
     ]
    }
   ],
   "source": [
    "mean8=analysts.mean()\n",
    "median9=analysts.median()\n",
    "print(mean8)\n",
    "print(median9)               "
   ]
  },
  {
   "cell_type": "markdown",
   "metadata": {},
   "source": [
    "# OUTPUT:"
   ]
  },
  {
   "cell_type": "code",
   "execution_count": 15,
   "metadata": {},
   "outputs": [],
   "source": [
    "data = {'No. of Listed Firms': [no_of_listed_firms] , 'No. of Covered Firms' : [no_of_covered_firms],\n",
    "        'As a % of Listed Firms': [col4],'Market Cap As % of Market':[col5],'Analysts per Covered Firm(Mean)':[mean6],\n",
    "        'Analysts per Covered Firm(Median)':[median7],'Covered Firm per Analyst(Mean)':[mean8],\n",
    "        'Covered Firm per Analyst(Median)':[median9],'Number of Analysts':[df['Number of Analysts'].sum(skipna=bool)],\n",
    "        'Average Rating':[df['Recommendation - Mean (1-5)'].mean(skipna=bool)]}"
   ]
  },
  {
   "cell_type": "code",
   "execution_count": 16,
   "metadata": {},
   "outputs": [
    {
     "data": {
      "text/html": [
       "<div>\n",
       "<style scoped>\n",
       "    .dataframe tbody tr th:only-of-type {\n",
       "        vertical-align: middle;\n",
       "    }\n",
       "\n",
       "    .dataframe tbody tr th {\n",
       "        vertical-align: top;\n",
       "    }\n",
       "\n",
       "    .dataframe thead th {\n",
       "        text-align: right;\n",
       "    }\n",
       "</style>\n",
       "<table border=\"1\" class=\"dataframe\">\n",
       "  <thead>\n",
       "    <tr style=\"text-align: right;\">\n",
       "      <th></th>\n",
       "      <th>No. of Listed Firms</th>\n",
       "      <th>No. of Covered Firms</th>\n",
       "      <th>As a % of Listed Firms</th>\n",
       "      <th>Market Cap As % of Market</th>\n",
       "      <th>Analysts per Covered Firm(Mean)</th>\n",
       "      <th>Analysts per Covered Firm(Median)</th>\n",
       "      <th>Covered Firm per Analyst(Mean)</th>\n",
       "      <th>Covered Firm per Analyst(Median)</th>\n",
       "      <th>Number of Analysts</th>\n",
       "      <th>Average Rating</th>\n",
       "    </tr>\n",
       "  </thead>\n",
       "  <tbody>\n",
       "    <tr>\n",
       "      <th>2020</th>\n",
       "      <td>1509</td>\n",
       "      <td>1474</td>\n",
       "      <td>97.680583</td>\n",
       "      <td>99.613935</td>\n",
       "      <td>11.905235</td>\n",
       "      <td>10.0</td>\n",
       "      <td>8.661373</td>\n",
       "      <td>7.0</td>\n",
       "      <td>17965</td>\n",
       "      <td>2.403828</td>\n",
       "    </tr>\n",
       "  </tbody>\n",
       "</table>\n",
       "</div>"
      ],
      "text/plain": [
       "      No. of Listed Firms  No. of Covered Firms  As a % of Listed Firms  \\\n",
       "2020                 1509                  1474               97.680583   \n",
       "\n",
       "      Market Cap As % of Market  Analysts per Covered Firm(Mean)  \\\n",
       "2020                  99.613935                        11.905235   \n",
       "\n",
       "      Analysts per Covered Firm(Median)  Covered Firm per Analyst(Mean)  \\\n",
       "2020                               10.0                        8.661373   \n",
       "\n",
       "      Covered Firm per Analyst(Median)  Number of Analysts  Average Rating  \n",
       "2020                               7.0               17965        2.403828  "
      ]
     },
     "execution_count": 16,
     "metadata": {},
     "output_type": "execute_result"
    }
   ],
   "source": [
    "table = pd.DataFrame(data)\n",
    "years = [2020]\n",
    "table.index = years\n",
    "table"
   ]
  },
  {
   "cell_type": "markdown",
   "metadata": {},
   "source": [
    "# S&P1500 Final Output"
   ]
  },
  {
   "cell_type": "code",
   "execution_count": 17,
   "metadata": {},
   "outputs": [
    {
     "data": {
      "text/html": [
       "<div>\n",
       "<style scoped>\n",
       "    .dataframe tbody tr th:only-of-type {\n",
       "        vertical-align: middle;\n",
       "    }\n",
       "\n",
       "    .dataframe tbody tr th {\n",
       "        vertical-align: top;\n",
       "    }\n",
       "\n",
       "    .dataframe thead th {\n",
       "        text-align: right;\n",
       "    }\n",
       "</style>\n",
       "<table border=\"1\" class=\"dataframe\">\n",
       "  <thead>\n",
       "    <tr style=\"text-align: right;\">\n",
       "      <th></th>\n",
       "      <th>No. of Listed Firms</th>\n",
       "      <th>No. of Covered Firms</th>\n",
       "      <th>As a % of Listed Firms</th>\n",
       "      <th>Market Cap As % of Market</th>\n",
       "      <th>Analysts per Covered Firm(Mean)</th>\n",
       "      <th>Analysts per Covered Firm(Median)</th>\n",
       "      <th>Covered Firm per Analyst(Mean)</th>\n",
       "      <th>Covered Firm per Analyst(Median)</th>\n",
       "      <th>Number of Analysts</th>\n",
       "      <th>Average Rating</th>\n",
       "    </tr>\n",
       "  </thead>\n",
       "  <tbody>\n",
       "    <tr>\n",
       "      <th>2010</th>\n",
       "      <td>1511.0</td>\n",
       "      <td>1151.0</td>\n",
       "      <td>76.174719</td>\n",
       "      <td>94.098716</td>\n",
       "      <td>8.859034</td>\n",
       "      <td>7.0</td>\n",
       "      <td>8.661373</td>\n",
       "      <td>7.0</td>\n",
       "      <td>13386.0</td>\n",
       "      <td>2.311071</td>\n",
       "    </tr>\n",
       "    <tr>\n",
       "      <th>2011</th>\n",
       "      <td>1513.0</td>\n",
       "      <td>1212.0</td>\n",
       "      <td>80.105750</td>\n",
       "      <td>96.348283</td>\n",
       "      <td>10.034369</td>\n",
       "      <td>8.0</td>\n",
       "      <td>8.661373</td>\n",
       "      <td>7.0</td>\n",
       "      <td>15182.0</td>\n",
       "      <td>2.299245</td>\n",
       "    </tr>\n",
       "    <tr>\n",
       "      <th>2012</th>\n",
       "      <td>1509.0</td>\n",
       "      <td>1240.0</td>\n",
       "      <td>82.173625</td>\n",
       "      <td>96.175145</td>\n",
       "      <td>10.469185</td>\n",
       "      <td>8.0</td>\n",
       "      <td>8.661373</td>\n",
       "      <td>7.0</td>\n",
       "      <td>15798.0</td>\n",
       "      <td>2.290217</td>\n",
       "    </tr>\n",
       "    <tr>\n",
       "      <th>2013</th>\n",
       "      <td>1510.0</td>\n",
       "      <td>1273.0</td>\n",
       "      <td>84.304636</td>\n",
       "      <td>96.222742</td>\n",
       "      <td>10.889404</td>\n",
       "      <td>9.0</td>\n",
       "      <td>8.661373</td>\n",
       "      <td>7.0</td>\n",
       "      <td>16443.0</td>\n",
       "      <td>2.323754</td>\n",
       "    </tr>\n",
       "    <tr>\n",
       "      <th>2014</th>\n",
       "      <td>1509.0</td>\n",
       "      <td>1309.0</td>\n",
       "      <td>86.746190</td>\n",
       "      <td>96.855180</td>\n",
       "      <td>11.480451</td>\n",
       "      <td>9.0</td>\n",
       "      <td>8.661373</td>\n",
       "      <td>7.0</td>\n",
       "      <td>17324.0</td>\n",
       "      <td>2.329091</td>\n",
       "    </tr>\n",
       "    <tr>\n",
       "      <th>2015</th>\n",
       "      <td>1509.0</td>\n",
       "      <td>1367.0</td>\n",
       "      <td>90.589795</td>\n",
       "      <td>95.862840</td>\n",
       "      <td>11.632207</td>\n",
       "      <td>9.0</td>\n",
       "      <td>8.661373</td>\n",
       "      <td>7.0</td>\n",
       "      <td>17553.0</td>\n",
       "      <td>2.304355</td>\n",
       "    </tr>\n",
       "    <tr>\n",
       "      <th>2016</th>\n",
       "      <td>1512.0</td>\n",
       "      <td>1406.0</td>\n",
       "      <td>92.989418</td>\n",
       "      <td>99.170679</td>\n",
       "      <td>11.921296</td>\n",
       "      <td>9.0</td>\n",
       "      <td>8.661373</td>\n",
       "      <td>7.0</td>\n",
       "      <td>18025.0</td>\n",
       "      <td>2.303550</td>\n",
       "    </tr>\n",
       "    <tr>\n",
       "      <th>2017</th>\n",
       "      <td>1510.0</td>\n",
       "      <td>1422.0</td>\n",
       "      <td>94.172185</td>\n",
       "      <td>98.822063</td>\n",
       "      <td>12.036424</td>\n",
       "      <td>9.0</td>\n",
       "      <td>8.661373</td>\n",
       "      <td>7.0</td>\n",
       "      <td>18175.0</td>\n",
       "      <td>2.393667</td>\n",
       "    </tr>\n",
       "    <tr>\n",
       "      <th>2018</th>\n",
       "      <td>1508.0</td>\n",
       "      <td>1442.0</td>\n",
       "      <td>95.623342</td>\n",
       "      <td>99.619730</td>\n",
       "      <td>11.861406</td>\n",
       "      <td>9.0</td>\n",
       "      <td>8.661373</td>\n",
       "      <td>7.0</td>\n",
       "      <td>17887.0</td>\n",
       "      <td>2.357617</td>\n",
       "    </tr>\n",
       "    <tr>\n",
       "      <th>2019</th>\n",
       "      <td>1509.0</td>\n",
       "      <td>1465.0</td>\n",
       "      <td>97.084162</td>\n",
       "      <td>99.643256</td>\n",
       "      <td>12.031146</td>\n",
       "      <td>10.0</td>\n",
       "      <td>8.661373</td>\n",
       "      <td>7.0</td>\n",
       "      <td>18155.0</td>\n",
       "      <td>2.351676</td>\n",
       "    </tr>\n",
       "    <tr>\n",
       "      <th>2020</th>\n",
       "      <td>1509.0</td>\n",
       "      <td>1474.0</td>\n",
       "      <td>97.680583</td>\n",
       "      <td>99.613935</td>\n",
       "      <td>11.905235</td>\n",
       "      <td>10.0</td>\n",
       "      <td>8.661373</td>\n",
       "      <td>7.0</td>\n",
       "      <td>17965.0</td>\n",
       "      <td>2.403828</td>\n",
       "    </tr>\n",
       "  </tbody>\n",
       "</table>\n",
       "</div>"
      ],
      "text/plain": [
       "      No. of Listed Firms  No. of Covered Firms  As a % of Listed Firms  \\\n",
       "2010               1511.0                1151.0               76.174719   \n",
       "2011               1513.0                1212.0               80.105750   \n",
       "2012               1509.0                1240.0               82.173625   \n",
       "2013               1510.0                1273.0               84.304636   \n",
       "2014               1509.0                1309.0               86.746190   \n",
       "2015               1509.0                1367.0               90.589795   \n",
       "2016               1512.0                1406.0               92.989418   \n",
       "2017               1510.0                1422.0               94.172185   \n",
       "2018               1508.0                1442.0               95.623342   \n",
       "2019               1509.0                1465.0               97.084162   \n",
       "2020               1509.0                1474.0               97.680583   \n",
       "\n",
       "      Market Cap As % of Market  Analysts per Covered Firm(Mean)  \\\n",
       "2010                  94.098716                         8.859034   \n",
       "2011                  96.348283                        10.034369   \n",
       "2012                  96.175145                        10.469185   \n",
       "2013                  96.222742                        10.889404   \n",
       "2014                  96.855180                        11.480451   \n",
       "2015                  95.862840                        11.632207   \n",
       "2016                  99.170679                        11.921296   \n",
       "2017                  98.822063                        12.036424   \n",
       "2018                  99.619730                        11.861406   \n",
       "2019                  99.643256                        12.031146   \n",
       "2020                  99.613935                        11.905235   \n",
       "\n",
       "      Analysts per Covered Firm(Median)  Covered Firm per Analyst(Mean)  \\\n",
       "2010                                7.0                        8.661373   \n",
       "2011                                8.0                        8.661373   \n",
       "2012                                8.0                        8.661373   \n",
       "2013                                9.0                        8.661373   \n",
       "2014                                9.0                        8.661373   \n",
       "2015                                9.0                        8.661373   \n",
       "2016                                9.0                        8.661373   \n",
       "2017                                9.0                        8.661373   \n",
       "2018                                9.0                        8.661373   \n",
       "2019                               10.0                        8.661373   \n",
       "2020                               10.0                        8.661373   \n",
       "\n",
       "      Covered Firm per Analyst(Median)  Number of Analysts  Average Rating  \n",
       "2010                               7.0             13386.0        2.311071  \n",
       "2011                               7.0             15182.0        2.299245  \n",
       "2012                               7.0             15798.0        2.290217  \n",
       "2013                               7.0             16443.0        2.323754  \n",
       "2014                               7.0             17324.0        2.329091  \n",
       "2015                               7.0             17553.0        2.304355  \n",
       "2016                               7.0             18025.0        2.303550  \n",
       "2017                               7.0             18175.0        2.393667  \n",
       "2018                               7.0             17887.0        2.357617  \n",
       "2019                               7.0             18155.0        2.351676  \n",
       "2020                               7.0             17965.0        2.403828  "
      ]
     },
     "execution_count": 17,
     "metadata": {},
     "output_type": "execute_result"
    }
   ],
   "source": [
    "years = [2010, 2011, 2012, 2013, 2014, 2015, 2016, 2017, 2018, 2019, 2020]\n",
    "\n",
    "data = {'No. of Listed Firms': [] , 'No. of Covered Firms' : [],\n",
    "    'As a % of Listed Firms': [],'Market Cap As % of Market':[],'Analysts per Covered Firm(Mean)':[],\n",
    "    'Analysts per Covered Firm(Median)':[],'Covered Firm per Analyst(Mean)':[],\n",
    "    'Covered Firm per Analyst(Median)':[],'Number of Analysts':[],\n",
    "    'Average Rating':[]}\n",
    "\n",
    "table = pd.DataFrame(data)\n",
    "\n",
    "for year in years:\n",
    "    df,er = ek.get_data(['0#.SPX','0#.SPMIDSM'],['TR.NumberOfAnalysts','TR.RecMean','TR.CompanyMarketCap'],\n",
    "                    {'frq': 'FY', 'SDate':'{}-01-01'.format(year), 'EDate':'{}-12-31'.format(year)})\n",
    "    \n",
    "    index=df.index\n",
    "    no_of_listed_firms=len(index)\n",
    "    \n",
    "    df['Number of Analysts'] = df['Number of Analysts'].fillna(0) #to replace na values with 0\n",
    "    no_of_covered_firms = 0 \n",
    "    for i in range(len(df)):\n",
    "        if df['Number of Analysts'][i] != 0:\n",
    "            no_of_covered_firms += 1\n",
    "            \n",
    "    col4 = no_of_covered_firms/no_of_listed_firms*100\n",
    "    \n",
    "    sumoflisted =df['Company Market Cap'].sum(skipna=bool)\n",
    "    sumofcovered =df.loc[df['Number of Analysts'] != 0,'Company Market Cap'].sum(skipna=bool)\n",
    "    col5=sumofcovered/sumoflisted*100\n",
    "    \n",
    "    df['Number of Analysts'] = df['Number of Analysts'].fillna(0) #to replace na values with 0\n",
    "\n",
    "    for i in range(len(df)):\n",
    "        if df['Number of Analysts'][i] != 0:\n",
    "            mean6=df['Number of Analysts'].mean()\n",
    "            median7=df['Number of Analysts'].median()      \n",
    "    \n",
    "    df1,er1 = ek.get_data(['0#.SPX','0#.SPMIDSM'],['TR.AnalystCode'],\n",
    "                    {'frq': 'FY', 'SDate':'{}-01-01'.format(year), 'EDate':'{}-12-31'.format(year)}) \n",
    "    \n",
    "    analysts=df1['Instrument'].groupby(df1['Analyst - Analyst Code']).count()\n",
    "    mean8=analysts.mean()\n",
    "    median9=analysts.median()\n",
    "    \n",
    "    ##Output##\n",
    "    data = {'No. of Listed Firms': [no_of_listed_firms] , 'No. of Covered Firms' : [no_of_covered_firms],\n",
    "        'As a % of Listed Firms': [col4],'Market Cap As % of Market':[col5],'Analysts per Covered Firm(Mean)':[mean6],\n",
    "        'Analysts per Covered Firm(Median)':[median7],'Covered Firm per Analyst(Mean)':[mean8],\n",
    "        'Covered Firm per Analyst(Median)':[median9],'Number of Analysts':[df['Number of Analysts'].sum(skipna=bool)],\n",
    "        'Average Rating':[df['Recommendation - Mean (1-5)'].mean(skipna=bool)]}\n",
    "    table2 = pd.DataFrame(data, index=[year])\n",
    "    table = pd.concat([table, table2])\n",
    "\n",
    "table"
   ]
  }
 ],
 "metadata": {
  "kernelspec": {
   "display_name": "Python 3",
   "language": "python",
   "name": "python3"
  },
  "language_info": {
   "codemirror_mode": {
    "name": "ipython",
    "version": 3
   },
   "file_extension": ".py",
   "mimetype": "text/x-python",
   "name": "python",
   "nbconvert_exporter": "python",
   "pygments_lexer": "ipython3",
   "version": "3.8.5"
  }
 },
 "nbformat": 4,
 "nbformat_minor": 4
}
